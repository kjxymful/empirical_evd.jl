{
 "cells": [
  {
   "cell_type": "markdown",
   "metadata": {},
   "source": [
    "# notebook in which all figures are created "
   ]
  },
  {
   "cell_type": "code",
   "execution_count": null,
   "metadata": {},
   "outputs": [],
   "source": [
    "include(\"../src/empirical_evd.jl\")\n",
    "using .empirical_evd\n",
    "using Plots\n",
    "\n",
    "function lorenz_regimes()\n",
    "    tss = [create_series(\"lorenz\", 20)]\n",
    "    push!(tss, create_series(\"lorenz\", 22))\n",
    "    push!(tss, create_series(\"lorenz\", 24))\n",
    "    push!(tss, create_series(\"lorenz\", 25))\n",
    "    push!(tss, create_series(\"lorenz\", 28))\n",
    "    push!(tss, create_series(\"lorenz\", 34))\n",
    "    ps = (plot3d(tss[i][:, 1], tss[i][:, 2], tss[i][:, 3]) for i in 1:6)\n",
    "    g = plot(ps..., layout=6, \n",
    "            title=[\"\\n20\" \"ρ as bifurcation parameter\\n22\" \"\\n24\" \"\\n25\" \"\\n28\" \"\\n34\"], titlefont=font(11), \n",
    "            legend=nothing, \n",
    "            plot_title=\"3d lorenz regimes\", plot_titlevspan=0.08)\n",
    "    mkpath(\"../Figures/lorenz/\") \n",
    "    savefig(g, \"../Figures/lorenz/lorenz_regimes.png\")\n",
    "end\n",
    "\n",
    "function bursting_neuron_regimes()\n",
    "    tss = [create_series(\"bursting_neuron\", 2)]\n",
    "    push!(tss,  create_series(\"bursting_neuron\", 3))\n",
    "    push!(tss,  create_series(\"bursting_neuron\", 5))\n",
    "    push!(tss,  create_series(\"bursting_neuron\", 9))\n",
    "    push!(tss,  create_series(\"bursting_neuron\", 10))\n",
    "    push!(tss,  create_series(\"bursting_neuron\", 10.2))\n",
    "    ps = (plot3d(tss[i][:, 1], tss[i][:, 2], tss[i][:, 3]) for i in 1:6)\n",
    "    g = plot(ps..., layout=6,\n",
    "        title=[\"\\n2\" \"\\$g_{nmda}\\$ as bifurcation parameter\\n3\" \"\\n5\" \"\\n9\" \"\\n10\" \"\\n10.2\"], titlefont=font(11),\n",
    "        legend=nothing,\n",
    "        plot_title=\"3d bursting neuron regimes\", plot_titlevspan=0.08,\n",
    "        size=(500, 500)\n",
    "    )\n",
    "    mkpath(\"../Figures/bursting_neuron/\")\n",
    "    savefig(g, \"../Figures/bursting_neuron/bursting_neuron_regimes.png\")\n",
    "end"
   ]
  }
 ],
 "metadata": {
  "kernelspec": {
   "display_name": "Julia 1.7.3",
   "language": "julia",
   "name": "julia-1.7"
  },
  "language_info": {
   "name": "julia"
  },
  "orig_nbformat": 4
 },
 "nbformat": 4,
 "nbformat_minor": 2
}
