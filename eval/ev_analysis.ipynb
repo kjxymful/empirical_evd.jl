{
 "cells": [
  {
   "cell_type": "markdown",
   "metadata": {},
   "source": [
    "# Ev analysis of plrnn\n"
   ]
  },
  {
   "cell_type": "markdown",
   "metadata": {},
   "source": [
    "# Iterator to get all possible Ds"
   ]
  },
  {
   "cell_type": "code",
   "execution_count": 1,
   "metadata": {},
   "outputs": [
    {
     "ename": "UndefVarError",
     "evalue": "UndefVarError: product not defined",
     "output_type": "error",
     "traceback": [
      "UndefVarError: product not defined\n",
      "\n",
      "Stacktrace:\n",
      " [1] top-level scope\n",
      "   @ ~/.julia/dev/empirical_evd/eval/ev_analysis.ipynb:2"
     ]
    }
   ],
   "source": [
    "all_D = ([0,1] for i in 1:2) # dim = 3\n",
    "for D in collect(product(all_D...))\n",
    "    @show diagm(collect(D))\n",
    "end"
   ]
  },
  {
   "cell_type": "code",
   "execution_count": 1,
   "metadata": {},
   "outputs": [],
   "source": [
    "\n",
    "using LinearAlgebra\n",
    "using BPTT\n",
    "include(\"../src/empirical_evd.jl\")\n",
    "using .empirical_evd#\n",
    "using Plots\n",
    "using Measures\n",
    "using SplitApplyCombine\n"
   ]
  },
  {
   "cell_type": "code",
   "execution_count": 2,
   "metadata": {},
   "outputs": [],
   "source": [
    "bins = 20\n",
    "system = \"lorenz\"\n",
    "dir = \"../Figures/$(system)_all\"\n",
    "function remove!(a, item)\n",
    "    deleteat!(a, findall(x -> x == item, a))\n",
    "end\n",
    "\n",
    "experiments = readdir(\"../Results\")\n",
    "remove!(experiments, \"default\")\n",
    "deleteat!(experiments, findall(x -> !occursin(system, x), experiments))\n",
    "\n",
    "# load all the experiments\n",
    "for exp in experiments\n",
    "    model_path = load_result_path(exp, 5000, 1)\n",
    "    m = BPTT.load_model(model_path)\n",
    "\n",
    "    # copy all images\n",
    "    mkpath(dir)\n",
    "    dst_path = \"$dir/$(exp)_traj.png\"\n",
    "    # cp(load_result_path(exp, 5000, 1; img=true), dst_path, force=true)\n",
    "\n",
    "    # safe the latent dim of the plrnn\n",
    "    dim = length(m.A)\n",
    "\n",
    "    # loop over all possible matrices D\n",
    "    all_Ds = ([0, 1] for i in 1:dim)\n",
    "    global all_λs = nothing\n",
    "    global all_λs = Vector{Vector{ComplexF32}}()\n",
    "    for (i,D) in enumerate(collect(Iterators.product(all_Ds...)))\n",
    "        Dt = diagm(collect(D))\n",
    "        \n",
    "        # compose single matrix A+WD\n",
    "        AWD = diagm(m.A) + m.W * Dt\n",
    "\n",
    "        # get evd of AWD\n",
    "        EVD = eigen(AWD)\n",
    "        λs = EVD.values\n",
    "        Vs = EVD.vectors\n",
    "        # add the same for Vs by doing the same with labda->v\n",
    "        push!(all_λs, complex(λs))\n",
    "    end\n",
    "    try\n",
    "        push!(exp_λs, all_λs)\n",
    "    catch e\n",
    "        if typeof(e) == UndefVarError\n",
    "            global exp_λs = [all_λs]\n",
    "        else\n",
    "            rethrow(e)\n",
    "        end\n",
    "    end\n",
    "end\n"
   ]
  },
  {
   "cell_type": "code",
   "execution_count": 3,
   "metadata": {},
   "outputs": [
    {
     "data": {
      "text/plain": [
       "Vector{Vector{Vector{ComplexF32}}} (alias for Array{Array{Array{Complex{Float32}, 1}, 1}, 1})"
      ]
     },
     "metadata": {},
     "output_type": "display_data"
    }
   ],
   "source": [
    "typeof(exp_λs)"
   ]
  },
  {
   "cell_type": "code",
   "execution_count": 4,
   "metadata": {},
   "outputs": [],
   "source": [
    "model_path = load_result_path(experiments[1], 5000, 1)\n",
    "m = BPTT.load_model(model_path)\n",
    "dim = length(m.A)\n",
    "#just a few checks\n",
    "@assert length(exp_λs) == length(experiments)\n",
    "@assert typeof(exp_λs) == Vector{Vector{Vector{ComplexF32}}}\n",
    "@assert [length(exp_λs[i]) for i in 1:length(experiments)] == [2^length(m.A) for i in 1:length(experiments)] \n"
   ]
  },
  {
   "cell_type": "code",
   "execution_count": 5,
   "metadata": {},
   "outputs": [
    {
     "data": {
      "text/plain": [
       "make_subplots (generic function with 1 method)"
      ]
     },
     "metadata": {},
     "output_type": "display_data"
    }
   ],
   "source": [
    "# for making subplots for each experiment\n",
    "function make_subplots(exp, plots, type)\n",
    "    if exp == \"lorenz\"\n",
    "        μ = \"ρ\"\n",
    "        title = [\"\\n20\" \"ρ as bifurcation parameter\\n22\" \"\\n24\" \"\\n25\" \"\\n28\" \"\\n34\"]\n",
    "    else\n",
    "        μ = \"\\$g_{nmda}\\$\"\n",
    "        title = [\"\\n2\" \"$μ as bifurcation parameter\\n3\" \"\\n5\" \"\\n9\" \"\\n10\" \"\\n10.2\"]\n",
    "    end\n",
    "    p = plot(plots..., layout=length(plots),\n",
    "        title=title, titlefont=font(11),\n",
    "        plot_title=\"$type of evd with \\n $exp plrnn\", plot_titlevspan=0.15\n",
    "        )\n",
    "    type_str = replace(type, \" \"=>\"_\") # replace the spaces for savefig\n",
    "    savefig(p, \"../Figures/$(exp)_all/$(exp)_$(type_str)_evd.png\")\n",
    "end\n"
   ]
  },
  {
   "cell_type": "code",
   "execution_count": 6,
   "metadata": {},
   "outputs": [],
   "source": [
    "using SplitApplyCombine\n",
    "# convert to array\n",
    "arr_l = combinedims(exp_λs)\n",
    "arr_l = combinedims(arr_l)\n",
    "exp_λs = splitdims(arr_l)\n",
    "arr_l = permutedims(arr_l, (3,2,1));\n"
   ]
  },
  {
   "cell_type": "code",
   "execution_count": 7,
   "metadata": {},
   "outputs": [],
   "source": [
    "# sort all the arrays\n",
    "abs_ls_sort = zeros(6,2^dim,dim)\n",
    "res_ls_sort = zeros(6,2^dim,dim)\n",
    "ims_ls_sort = zeros(6,2^dim,dim)\n",
    "\n",
    "for (ex,all_lambdas) in enumerate(exp_λs)\n",
    "    abs_ls = abs.(all_lambdas)\n",
    "    res_ls = real(all_lambdas)\n",
    "    ims_ls = imag(all_lambdas)\n",
    "    v = nothing\n",
    "    for i in 1:size(all_lambdas)[2]\n",
    "        v = sortperm(abs_ls[:, i])\n",
    "        abs_ls_sort[ex,i,:] = abs_ls[v, i]\n",
    "        res_ls_sort[ex,i,:] = res_ls[v, i]\n",
    "        ims_ls_sort[ex,i,:] = ims_ls[v, i]\n",
    "    end\n",
    "end\n"
   ]
  },
  {
   "cell_type": "code",
   "execution_count": 8,
   "metadata": {},
   "outputs": [],
   "source": [
    "\n",
    "# Plots of single experiments\n",
    "# make it a vector for easy iteration\n",
    "abs_λs = splitdims(abs_ls_sort, 1)\n",
    "ims_λs = splitdims(ims_ls_sort, 1)\n",
    "res_λs = splitdims(res_ls_sort, 1)\n",
    "\n",
    "\n",
    "# histogram of all abs values\n",
    "hists_abs_val = (histogram(collect(Iterators.flatten(abs_val)),yaxis=:log, bins=bins, legend=nothing, xlabel=\"Ev value [b.E.]\", ylabel=\"Hits\") for abs_val in abs_λs)\n",
    "\n",
    "# im and real part histograms\n",
    "hists_ims = (histogram(collect(Iterators.flatten(ims_val)),yaxis=:log, bins=bins, xlabel = \"Ev value [b.E.]\") for ims_val in ims_λs)\n",
    "hists_res = (histogram(collect(Iterators.flatten(res_val)),yaxis=:log, bins=bins, xlabel = \"Ev value [b.E.]\") for res_val in res_λs)\n",
    "\n",
    "make_subplots(\"lorenz\", hists_abs_val, \"histogram of absolute values\")\n",
    "make_subplots(\"lorenz\", hists_ims, \"histogram of imaginary part\")\n",
    "make_subplots(\"lorenz\", hists_res, \"historam of real parts\")\n",
    "\n"
   ]
  },
  {
   "cell_type": "code",
   "execution_count": 9,
   "metadata": {},
   "outputs": [
    {
     "data": {
      "text/plain": [
       "(1.9331504106521606, CartesianIndex(29566, 15))"
      ]
     },
     "metadata": {},
     "output_type": "display_data"
    }
   ],
   "source": [
    "_, index = findmax(abs_λs[1])"
   ]
  },
  {
   "cell_type": "code",
   "execution_count": 10,
   "metadata": {},
   "outputs": [],
   "source": [
    "# abs values together for one case\n",
    "c = [:red, :red, :turquoise, :green, :black, :black]\n",
    "label = [\"limit cycle\", \"limit cycle\", \"limit cycle\", \"right after bifurcation\", \"chaotic regime\", \"chaotic regime\"]\n",
    "for (i, abs_val) in enumerate(abs_λs)\n",
    "    try\n",
    "        plot!(abs_plot, abs_val[index[1],:], 1:dim, c=c[i], xlabel=\"Ev value [b.E.]\",\n",
    "            ylabel=\"Ev No\", label=label[i])\n",
    "    catch\n",
    "        global abs_plot = plot(abs_val[index[1],:], 1:dim,\n",
    "            c=c[i],\n",
    "            label=label[i],\n",
    "            xlabel=\"Ev value [b.E.]\",\n",
    "            ylabel=\"Ev No\",\n",
    "            plot_title=\"Eigenvalue evolution of quadrant $(index[1])\", plot_titlevspan=0.05)\n",
    "    end\n",
    "end\n",
    "savefig(abs_plot, \"../Figures/lorenz_all/change_in_abs_vals.png\")\n"
   ]
  },
  {
   "cell_type": "code",
   "execution_count": 11,
   "metadata": {},
   "outputs": [],
   "source": [
    "\n",
    "# look at change of the parameters\n",
    "for id in 2:6 # for all experiments\n",
    "    try\n",
    "        push!(change_abs, abs.(abs_λs[id] - abs_λs[id-1]))\n",
    "    catch e\n",
    "        global change_abs = [abs.(abs_λs[id] - abs_λs[id-1])]\n",
    "    end\n",
    "end\n",
    "\n",
    "# percentual change\n",
    "for id in 2:6 # for all experiments\n",
    "    try\n",
    "        push!(change_abs_p, abs.(abs_λs[id] ./ abs_λs[id-1]))\n",
    "    catch e\n",
    "        global change_abs_p = [abs.(abs_λs[id] ./ abs_λs[id-1])]\n",
    "    end\n",
    "end\n"
   ]
  },
  {
   "cell_type": "code",
   "execution_count": 12,
   "metadata": {},
   "outputs": [],
   "source": [
    "arr_change_abs = combinedims(change_abs,1);\n",
    "arr_change_abs_p = combinedims(change_abs_p,1);\n"
   ]
  },
  {
   "cell_type": "code",
   "execution_count": 39,
   "metadata": {},
   "outputs": [],
   "source": [
    "idcs = findall(x->x>=2,arr_change_abs_p)\n",
    "for id in idcs\n",
    "    arr_change_abs_p[id] = 0\n",
    "end\n"
   ]
  },
  {
   "cell_type": "code",
   "execution_count": 40,
   "metadata": {},
   "outputs": [],
   "source": [
    "\n",
    "# hist of overall change in all eigenvalues\n",
    "hist_abs_p = histogram(collect(Iterators.flatten(arr_change_abs_p.-1)),\n",
    "    title=\"percentual change of all eigenvalues\",\n",
    "    yaxis=:log,\n",
    "    legend=nothing, bins=bins)\n",
    "\n",
    "# hist of overall change in all eigenvalues absou change\n",
    "hist_abs = histogram(collect(Iterators.flatten(arr_change_abs)),\n",
    "    yaxis=:log,\n",
    "    title=\"absolute change of all eigenvalues\",\n",
    "    legend=nothing, bins=bins)\n",
    "\n",
    "\n",
    "savefig(hist_abs_p, \"../Figures/lorenz_all/overall_cahnge_abs_val_p.png\")\n",
    "savefig(hist_abs, \"../Figures/lorenz_all/overall_cahnge_abs_val.png\")\n",
    "\n"
   ]
  },
  {
   "cell_type": "code",
   "execution_count": 14,
   "metadata": {},
   "outputs": [
    {
     "data": {
      "text/plain": [
       "(81819.28975334633, CartesianIndex(1, 23673, 1))"
      ]
     },
     "metadata": {},
     "output_type": "display_data"
    }
   ],
   "source": [
    "\n",
    "# plot the change of some of the imoprtant eigenvalues\n",
    "val, idx = findmax(sum(arr_change_abs,       dims=1))\n",
    "val_p, idx_p = findmax(sum(arr_change_abs_p, dims=1))\n"
   ]
  },
  {
   "cell_type": "code",
   "execution_count": 15,
   "metadata": {},
   "outputs": [
    {
     "ename": "UndefVarError",
     "evalue": "UndefVarError: mm not defined",
     "output_type": "error",
     "traceback": [
      "UndefVarError: mm not defined\n",
      "\n",
      "Stacktrace:\n",
      " [1] top-level scope\n",
      "   @ ~/.julia/dev/empirical_evd/eval/ev_analysis.ipynb:5"
     ]
    }
   ],
   "source": [
    "# specific plot, to show change of the most changing evs\n",
    "a = plot(abs_ls_sort[:, idx[2], idx[3]], xlabel=\"experiment\", ylabel=\"b.E.\")\n",
    "b = plot(abs_ls_sort[:, idx_p[2], idx_p[3]], xlabel=\"experiment\", ylabel=\"%\")\n",
    "\n",
    "p = plot(a, b, layout=2,\n",
    "    size=(1000, 500),\n",
    "    legend=nothing,\n",
    "    margin=10mm,\n",
    "    title=[\"absolute change\" \"percentual change\"],\n",
    "    plot_title=\"detailed changes of absolute values\", plot_titlevspan=0.05)\n",
    "savefig(d, \"../Figures/lorenz_all/ev_t_detail.png\")"
   ]
  },
  {
   "cell_type": "code",
   "execution_count": 16,
   "metadata": {},
   "outputs": [],
   "source": []
  }
 ],
 "metadata": {
  "kernelspec": {
   "display_name": "Julia 1.7.3",
   "language": "julia",
   "name": "julia-1.7"
  },
  "language_info": {
   "file_extension": ".jl",
   "mimetype": "application/julia",
   "name": "julia",
   "version": "1.7.3"
  },
  "orig_nbformat": 4
 },
 "nbformat": 4,
 "nbformat_minor": 2
}
